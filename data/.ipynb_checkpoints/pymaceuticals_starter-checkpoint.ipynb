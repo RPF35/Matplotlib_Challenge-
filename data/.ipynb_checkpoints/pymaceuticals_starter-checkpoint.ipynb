{
 "cells": [
  {
   "cell_type": "markdown",
   "metadata": {},
   "source": [
    "# Pymaceuticals Inc.\n",
    "---\n",
    "\n",
    "### Analysis\n",
    "\n",
    "- Capomulin and Ramicane are more effective in reducing the size of tumors than Infubinol and Ceftamine; with Infubinol having 1 outlier. \n",
    "- We should note that both Capomulin and Ramicane were used more during the testing than the other drugs during the study. \n",
    "- When looking at the linear regression, weight has a strong positive correlation (84%) when compared to average Tumor volume. We can concluded that the heavier the mouse, the larger the volume of the tumor. \n",
    "\n",
    " "
   ]
  },
  {
   "cell_type": "code",
   "execution_count": null,
   "metadata": {
    "scrolled": true
   },
   "outputs": [],
   "source": [
    "# Dependencies and Setup\n",
    "import matplotlib.pyplot as plt\n",
    "import pandas as pd\n",
    "import scipy.stats as st\n",
    "import numpy as np\n",
    "\n",
    "# Study data files\n",
    "mouse_metadata_path = \"../data/Mouse_metadata.csv\"\n",
    "study_results_path = \"../data/Study_results.csv\"\n",
    "\n",
    "# Read the mouse data and the study results\n",
    "mouse_metadata = pd.read_csv(mouse_metadata_path)\n",
    "study_results = pd.read_csv(study_results_path)\n",
    "\n",
    "# Combine the data into a single DataFrame\n",
    "combined_data = pd.merge(mouse_metadata, study_results, on=\"Mouse ID\")\n",
    "\n",
    "# Display the data table for preview\n",
    "combined_data.head()"
   ]
  },
  {
   "cell_type": "code",
   "execution_count": null,
   "metadata": {},
   "outputs": [],
   "source": [
    "# find the number of mice\n",
    "num_mice= len(combined_data[\"Mouse ID\"].unique())\n",
    "print(num_mice)"
   ]
  },
  {
   "cell_type": "code",
   "execution_count": null,
   "metadata": {},
   "outputs": [],
   "source": [
    "# Our data should be uniquely identified by Mouse ID and Timepoint\n",
    "\n",
    "# Get the duplicate mice by ID number that shows up for Mouse ID and Timepoint\n",
    "dupes_data = combined_data[combined_data.duplicated([\"Mouse ID\",\"Timepoint\"])]\n",
    "\n",
    "# duplicate mice by ID number\n",
    "dupes_mice = dupes_data[\"Mouse ID\"].unique()\n",
    "\n",
    "print(dupes_mice,)\n"
   ]
  },
  {
   "cell_type": "code",
   "execution_count": null,
   "metadata": {},
   "outputs": [],
   "source": [
    "# Optional: Get all the data for the duplicate mouse ID. \n",
    "dupes_data_mouse_id = combined_data.loc[combined_data[\"Mouse ID\"]==\"g989\",:]\n",
    "\n",
    "pd.DataFrame(dupes_data_mouse_id)\n"
   ]
  },
  {
   "cell_type": "code",
   "execution_count": null,
   "metadata": {},
   "outputs": [],
   "source": [
    "# Create a clean DataFrame by dropping the duplicate mouse by its ID.\n",
    "combined_data_clean = combined_data[combined_data['Mouse ID'].isin(dupes_mice)==False]\n",
    "\n",
    "# disply dataframe\n",
    "combined_data_clean.head()"
   ]
  },
  {
   "cell_type": "code",
   "execution_count": null,
   "metadata": {},
   "outputs": [],
   "source": [
    "# Number of mice IDs after dropped ID. Should = num_mice-1(248)\n",
    "num_mice_clean= len(combined_data_clean[\"Mouse ID\"].unique())\n",
    "print(num_mice_clean)"
   ]
  },
  {
   "cell_type": "markdown",
   "metadata": {},
   "source": [
    "## Summary Statistics"
   ]
  },
  {
   "cell_type": "code",
   "execution_count": null,
   "metadata": {},
   "outputs": [],
   "source": [
    "# print columns of cleaned data\n",
    "print(combined_data_clean.columns)\n"
   ]
  },
  {
   "cell_type": "code",
   "execution_count": null,
   "metadata": {},
   "outputs": [],
   "source": [
    "# Generate a summary statistics table of mean, median, variance, standard deviation, and SEM of the tumor volume for each regimen\n",
    "\n",
    "\n",
    "# Group data by Drug Regimen\n",
    "gd_DR= combined_data_clean.groupby('Drug Regimen')['Tumor Volume (mm3)']\n",
    "\n",
    "# summary statistical methods to calculate the following properties of each drug regimen: \n",
    "# mean, median, variance, standard deviation, and SEM of the tumor volume.\n",
    "gd_mean= gd_DR.mean()\n",
    "gd_median = gd_DR.median()\n",
    "gd_variance = gd_DR.var()\n",
    "gd_std = gd_DR.std()\n",
    "gd_sem = gd_DR.apply(lambda x: np.std(x)/ np.sqrt(len(x)))\n",
    "\n",
    "# Assemble the resulting series into a single summary DataFrame.\n",
    "ss_df= pd.DataFrame({'Mean': gd_mean,\n",
    "    'Median': gd_median,\n",
    "    'Variance': gd_variance,\n",
    "    'Standard Deviation': gd_std,\n",
    "    'SEM': gd_sem})\n",
    "\n",
    "\n",
    "# disply dataframe\n",
    "ss_df"
   ]
  },
  {
   "cell_type": "code",
   "execution_count": null,
   "metadata": {},
   "outputs": [],
   "source": [
    "# A more advanced method to generate a summary statistics table of mean, median, variance, standard deviation,\n",
    "# and SEM of the tumor volume for each regimen (only one method is required in the solution)\n",
    "\n",
    "# Using the aggregation method, produce the same summary statistics in a single line(summary stats aggregated= ss_dfa )\n",
    "ss_dfa = combined_data_clean[[\"Drug Regimen\",\"Tumor Volume (mm3)\"]].groupby([\"Drug Regimen\"]).agg(['mean', 'median','var', 'std', 'sem'])\n",
    "\n",
    "# Display the summary statistics table\n",
    "ss_dfa"
   ]
  },
  {
   "cell_type": "markdown",
   "metadata": {},
   "source": [
    "## Bar and Pie Charts"
   ]
  },
  {
   "cell_type": "code",
   "execution_count": null,
   "metadata": {},
   "outputs": [],
   "source": [
    "# Generate a bar plot showing the total number of rows (Mouse ID/Timepoints) for each drug regimen using Pandas.\n",
    "\n",
    "pandas_bp = combined_data_clean.groupby('Drug Regimen')['Timepoint'].count()\n",
    "\n",
    "pandas_bp = pandas_bp.sort_values(ascending=False)\n",
    "\n",
    "# Create a bar plot\n",
    "pandas_bp_plot = pandas_bp.plot.bar()\n",
    "\n",
    "# Set the axis labels\n",
    "plt.xlabel('Drug Regimen')\n",
    "plt.ylabel('# of Observed Mouse Timepoints')\n",
    "\n",
    "# Show the plot\n",
    "plt.show()"
   ]
  },
  {
   "cell_type": "code",
   "execution_count": null,
   "metadata": {},
   "outputs": [],
   "source": [
    "# Generate a bar plot showing the total number of timepoints for all mice tested for each drug regimen using pyplot.\n",
    "\n",
    "# Generate a bar plot showing the total number of unique mice tested on each drug regimen using pyplot.\n",
    "x_axis = pyplot_bp.index.values\n",
    "y_axis = pyplot_bp.values\n",
    "\n",
    "# Sort the data by count\n",
    "pyplot_bp_sorted = pyplot_bp.sort_values(ascending=False)\n",
    "\n",
    "# Create a Pyplot bar plot based off of the group series from before and label the title\n",
    "plt.bar(x_axis, y_axis, alpha=0.8, align='center')\n",
    "\n",
    "\n",
    "# Set the xlabel and ylabel, title using class methods\n",
    "plt.xlabel(\"Drug Regimen\")\n",
    "plt.ylabel(\"Number of Mice Tested\")\n",
    "plt.xticks(rotation=\"vertical\")\n",
    "\n",
    "plt.show()"
   ]
  },
  {
   "cell_type": "code",
   "execution_count": null,
   "metadata": {},
   "outputs": [],
   "source": [
    "# Generate a pie plot showing the distribution of female versus male mice using Pandas\n",
    "cdc_df = combined_data_clean\n",
    "\n",
    "# Identify distribution of data by sex\n",
    "pandas_pc = cdc_df['Sex'].value_counts()\n",
    "\n",
    "# Plot a pie chart filled with corresponding percentages \n",
    "pandas_pc.plot = pandas_pc.plot.pie(autopct='%1.1f%%')\n",
    "\n",
    "# Show the plot\n",
    "plt.show()"
   ]
  },
  {
   "cell_type": "code",
   "execution_count": null,
   "metadata": {},
   "outputs": [],
   "source": [
    "# Generate a pie plot showing the distribution of female versus male mice using pyplot\n",
    "\n",
    "# Count the number of males and females\n",
    "male_count = len(cdc_df[cdc_df['Sex'] == 'Male'])\n",
    "female_count = len(cdc_df[cdc_df['Sex'] == 'Female'])\n",
    "\n",
    "\n",
    "# Create a list of values to be plotted\n",
    "values = [male_count, female_count]\n",
    "\n",
    "\n",
    "# Create a list of labels for the pie chart\n",
    "labels = ['Male', 'Female']\n",
    "\n",
    "# Set the explode parameter to separate the slices of the pie chart\n",
    "explode = [0.0, 0]\n",
    "\n",
    "# Create the pie chart\n",
    "plt.pie(values, explode=explode, labels=labels, autopct='%1.1f%%', startangle=0)\n",
    "\n",
    "# Add a title to the pie chart\n",
    "plt.title('Distribution by Sex')\n",
    "\n",
    "# Show the pie chart\n",
    "plt.show()"
   ]
  },
  {
   "cell_type": "markdown",
   "metadata": {},
   "source": [
    "## Quartiles, Outliers and Boxplots"
   ]
  },
  {
   "cell_type": "code",
   "execution_count": null,
   "metadata": {},
   "outputs": [],
   "source": [
    "# Calculate the final tumor volume of each mouse across four of the treatment regimens:  \n",
    "# Capomulin, Ramicane, Infubinol, and Ceftamin\n"
   ]
  },
  {
   "cell_type": "code",
   "execution_count": null,
   "metadata": {},
   "outputs": [],
   "source": [
    "# Calculate the IQR and quantitatively determine if there are any potential outliers.\n",
    "\n",
    "# Put treatments into a list for for loop (and later for plot labels)\n",
    "treatments = ['Capomulin', 'Ramicane', 'Infubinol', 'Ceftamin']\n",
    "\n",
    "# Create empty list to store tumor volume data for plotting\n",
    "vol_data = []\n",
    "\n",
    "# Calculate the IQR and quantitatively determine if there are any potential outliers.\n",
    "for drug in treatments:\n",
    "    # Get the last (greatest) timepoint for each mouse on the current drug regimen\n",
    "    last_timepoints = cdc_df.loc[cdc_df['Drug Regimen'] == drug].groupby('Mouse ID')['Timepoint'].max()\n",
    "    \n",
    "    # Merge the last timepoints with the original dataframe to get the final tumor volume for each mouse\n",
    "    final_volumes = pd.merge(last_timepoints, cdc_df, on=['Mouse ID', 'Timepoint'], how='left')['Tumor Volume (mm3)']\n",
    "    \n",
    "    # Append the final tumor volume data to the vol_data list for plotting later\n",
    "    vol_data.append(final_volumes)\n",
    "    \n",
    "    # Calculate the interquartile range (IQR) for the current drug regimen\n",
    "    quartiles = final_volumes.quantile([0.25, 0.5, 0.75])\n",
    "    q1 = quartiles[0.25]\n",
    "    q3 = quartiles[0.75]\n",
    "    iqr = q3 - q1\n",
    "    \n",
    "    # Determine outliers using upper and lower bounds\n",
    "    lower_bound = q1 - 1.5*iqr\n",
    "    upper_bound = q3 + 1.5*iqr\n",
    "    \n",
    "    # Find outliers \n",
    "    outliers = list(final_volumes.loc[(final_volumes < lower_bound) | (final_volumes > upper_bound)])\n",
    "\n",
    "    if outliers:\n",
    "        print(f\"{drug}'s potential outliers: {outliers}\")\n",
    "    else:\n",
    "        print(f\"{drug} has no outliers\")\n"
   ]
  },
  {
   "cell_type": "code",
   "execution_count": null,
   "metadata": {},
   "outputs": [],
   "source": [
    "# Plot the box plot with red outliers\n",
    "fig, ax = plt.subplots()\n",
    "\n",
    "# Create the box plot with red outliers and larger dots\n",
    "ax.boxplot(vol_data, flierprops=dict(markerfacecolor='red', markersize=12))\n",
    "\n",
    "# Set the x-axis labels and title\n",
    "ax.set_xticklabels(treatments)\n",
    "ax.set_xlabel('Drug Regimen')\n",
    "ax.set_ylabel('Final Tumor Volume (mm3)')\n",
    "ax.set_title('Final Tumor Volume by Drug Regimen')\n",
    "\n",
    "# Show the plot\n",
    "plt.show()"
   ]
  },
  {
   "cell_type": "markdown",
   "metadata": {},
   "source": [
    "## Line and Scatter Plots"
   ]
  },
  {
   "cell_type": "code",
   "execution_count": null,
   "metadata": {},
   "outputs": [],
   "source": [
    "# Generate a line plot of tumor volume vs. time point for a single mouse treated with Capomulin\n",
    "\n",
    "# Identify data points of a mouse treated with Capomulin\n",
    "mouse = cdc_df.loc[cdc_df['Mouse ID'] == 'l509']\n",
    "\n",
    "# Plot a line chart with the time values on the x-axis and the tumor volume values on the y-axis\n",
    "plt.plot(mouse['Timepoint'], mouse['Tumor Volume (mm3)'])\n",
    "\n",
    "# Add labels and title to plot\n",
    "plt.xlabel(\"Time (days)\")\n",
    "plt.ylabel(\"Tumor Volume (mm3)\")\n",
    "plt.title(\"Capomulin Treatment of Mouse l509\")\n",
    "\n",
    "# Display plot\n",
    "plt.show()\n"
   ]
  },
  {
   "cell_type": "code",
   "execution_count": null,
   "metadata": {},
   "outputs": [],
   "source": [
    "# Generate a scatter plot of mouse weight vs. the average observed tumor volume for the entire Capomulin regimen\n",
    "# Isolate cases that only use the Capomulin regimen\n",
    "capomulin_df = cdc_df.loc[cdc_df['Drug Regimen'] == 'Capomulin']\n",
    "\n",
    "# Find average tumor volume for each mouse\n",
    "\n",
    "avg_vol_df = pd.DataFrame(capomulin_df.groupby('Mouse ID')['Tumor Volume (mm3)'].mean().sort_values()).reset_index().rename(columns={'Tumor Volume (mm3)': 'avg_tumor_vol'})\n",
    "\n",
    "# Merge average tumor volume onto data_df and drop duplicates\n",
    "avg_vol_df = pd.merge(capomulin_df, avg_vol_df, on='Mouse ID')\n",
    "final_avg_vol_df = avg_vol_df[['Weight (g)', 'avg_tumor_vol']].drop_duplicates()\n",
    "final_avg_vol_df\n",
    "\n",
    "x = final_avg_vol_df['Weight (g)']\n",
    "y = final_avg_vol_df['avg_tumor_vol']\n",
    "\n",
    "# Create a scatter plot based on new dataframe above with circle markers and listed colors\n",
    "plt.scatter(x, y)\n",
    "\n",
    "# Add labels and title to plot\n",
    "plt.xlabel(\"Weight (g)\")\n",
    "plt.ylabel(\"Average Tumor Volume (mm3)\")\n",
    "plt.title('Average Tumor Volume by Weight')\n",
    "\n",
    "# Display plot\n",
    "plt.show()"
   ]
  },
  {
   "cell_type": "markdown",
   "metadata": {},
   "source": [
    "## Correlation and Regression"
   ]
  },
  {
   "cell_type": "code",
   "execution_count": null,
   "metadata": {},
   "outputs": [],
   "source": [
    "# Filter the data for the Capomulin regimen\n",
    "capomulin_data = cdc_df.loc[cdc_df['Drug Regimen'] == 'Capomulin']\n",
    "\n",
    "# Calculate the average tumor volume for each mouse\n",
    "avg_tumor_vol = capomulin_data.groupby('Mouse ID')['Tumor Volume (mm3)'].mean()\n",
    "\n",
    "# Get the corresponding weight for each mouse\n",
    "mouse_weight = capomulin_data.groupby('Mouse ID')['Weight (g)'].mean()\n",
    "\n",
    "# Calculate the correlation coefficient\n",
    "correlation = st.pearsonr(mouse_weight, avg_tumor_vol)\n",
    "print(f\"The correlation coefficient between mouse weight and average tumor volume is {correlation[0]:.2f}\")\n",
    "\n",
    "# Perform a linear regression\n",
    "slope, intercept, rvalue, pvalue, stderr = st.linregress(mouse_weight, avg_tumor_vol)\n",
    "\n",
    "# Create scatter plot\n",
    "plt.scatter(mouse_weight, avg_tumor_vol, marker='o')\n",
    "\n",
    "# Add linear regression line\n",
    "regress_values = mouse_weight * slope + intercept\n",
    "plt.plot(mouse_weight, regress_values, color='red', linestyle='--')\n",
    "\n",
    "# chart labels\n",
    "plt.xlabel(\"Weight (g)\")\n",
    "plt.ylabel(\"Average Tumor Volume (mm3)\")\n",
    "\n",
    "# Show plot\n",
    "plt.show()\n",
    "\n"
   ]
  }
 ],
 "metadata": {
  "anaconda-cloud": {},
  "kernelspec": {
   "display_name": "Python 3 (ipykernel)",
   "language": "python",
   "name": "python3"
  },
  "language_info": {
   "codemirror_mode": {
    "name": "ipython",
    "version": 3
   },
   "file_extension": ".py",
   "mimetype": "text/x-python",
   "name": "python",
   "nbconvert_exporter": "python",
   "pygments_lexer": "ipython3",
   "version": "3.9.13"
  }
 },
 "nbformat": 4,
 "nbformat_minor": 4
}
